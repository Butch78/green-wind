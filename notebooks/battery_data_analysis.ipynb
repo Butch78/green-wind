{
 "cells": [
  {
   "cell_type": "markdown",
   "metadata": {},
   "source": [
    "This is just a basic example of how the Postgres Database can be queried for further analysis. The data is queried from the database and then converted into a pandas dataframe for further analysis. The data can analyzed and visualized using matplotlib and seaborn."
   ]
  },
  {
   "cell_type": "code",
   "execution_count": 3,
   "metadata": {},
   "outputs": [],
   "source": [
    "import sys\n",
    "sys.path.append('../')"
   ]
  },
  {
   "cell_type": "code",
   "execution_count": 11,
   "metadata": {},
   "outputs": [
    {
     "name": "stdout",
     "output_type": "stream",
     "text": [
      "                  created_at                 updated_at  id  \\\n",
      "0 2023-12-29 23:48:30.744450 2023-12-29 23:48:30.744452   1   \n",
      "1 2023-12-29 23:48:30.924719 2023-12-29 23:48:30.924722   2   \n",
      "2 2023-12-29 23:48:31.052356 2023-12-29 23:48:31.052412   3   \n",
      "3 2023-12-29 23:48:31.185185 2023-12-29 23:48:31.185189   4   \n",
      "4 2023-12-29 23:48:31.316208 2023-12-29 23:48:31.316212   5   \n",
      "\n",
      "             battery_id    manufacturer      model                  timestamp  \n",
      "0  bPKVipRSQTzLtRhiBCvk  GreenPowerTech      GPT-3 2012-08-16 08:09:40.450390  \n",
      "1  XADCIDvUYbJPyYGixZNZ         Siemens  Siemens-1 1998-08-26 18:14:11.187464  \n",
      "2  zwFjvvHQTuXGjzOcNZcT           Tesla  Siemens-1 2002-06-24 12:38:43.859867  \n",
      "3  czkxNLnrJuADehNOoCFJ  GreenPowerTech    Tesla-1 2004-10-13 06:23:07.394886  \n",
      "4  aaBXItAuLpgffomFccRj  GreenPowerTech    Tesla-1 1998-10-05 08:06:15.895020  \n",
      "                          created_at                     updated_at  \\\n",
      "count                            101                            101   \n",
      "mean   2023-12-29 23:48:37.819109632  2023-12-29 23:48:37.819114496   \n",
      "min       2023-12-29 23:48:30.744450     2023-12-29 23:48:30.744452   \n",
      "25%    2023-12-29 23:48:33.905827072  2023-12-29 23:48:33.905829120   \n",
      "50%    2023-12-29 23:48:36.953008896  2023-12-29 23:48:36.953011968   \n",
      "75%    2023-12-29 23:48:40.040019968  2023-12-29 23:48:40.040022016   \n",
      "max       2023-12-29 23:50:08.591180     2023-12-29 23:50:08.591182   \n",
      "std                              NaN                            NaN   \n",
      "\n",
      "               id                      timestamp  \n",
      "count  101.000000                            101  \n",
      "mean    51.000000  2008-09-10 01:08:17.357810432  \n",
      "min      1.000000     1994-06-08 08:26:55.378525  \n",
      "25%     26.000000  2000-03-09 21:55:35.252173952  \n",
      "50%     51.000000  2009-01-12 20:20:17.862268928  \n",
      "75%     76.000000  2016-02-08 22:26:27.761392896  \n",
      "max    101.000000            2023-12-21 10:00:00  \n",
      "std     29.300171                            NaN  \n"
     ]
    }
   ],
   "source": [
    "import psycopg2\n",
    "import os\n",
    "import numpy as np\n",
    "import matplotlib.pyplot as plt\n",
    "import matplotlib\n",
    "import pandas as pd\n",
    "from sqlalchemy import create_engine\n",
    "from app.utils.config import settings\n",
    "\n",
    "from sqlalchemy import create_engine\n",
    "from app.utils.config import settings\n",
    "\n",
    "# Set up connection parameters from environment variables\n",
    "dbname = settings.DBNAME\n",
    "user = settings.READ_ONLY_DBUSER\n",
    "password = settings.READ_ONLY_DBPASS\n",
    "host = settings.DBHOST\n",
    "port = settings.DBPORT\n",
    "\n",
    "# Connect to the PostgreSQL database\n",
    "conn_str = f'postgresql://{user}:{password}@{host}:{port}/{dbname}'\n",
    "engine = create_engine(conn_str)\n",
    "\n",
    "# Load conditions into a dataframe\n",
    "battery_data = pd.read_sql_query('SELECT * FROM batterydata', engine)\n",
    "\n",
    "print(battery_data.head())\n",
    "print(battery_data.describe())\n"
   ]
  }
 ],
 "metadata": {
  "kernelspec": {
   "display_name": "green-wind-0OVe_Mwm-py3.11",
   "language": "python",
   "name": "python3"
  },
  "language_info": {
   "codemirror_mode": {
    "name": "ipython",
    "version": 3
   },
   "file_extension": ".py",
   "mimetype": "text/x-python",
   "name": "python",
   "nbconvert_exporter": "python",
   "pygments_lexer": "ipython3",
   "version": "3.11.7"
  }
 },
 "nbformat": 4,
 "nbformat_minor": 2
}
